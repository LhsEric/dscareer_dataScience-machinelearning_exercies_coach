{
  "nbformat": 4,
  "nbformat_minor": 0,
  "metadata": {
    "colab": {
      "provenance": [],
      "authorship_tag": "ABX9TyNgKDmHjAAtNun2LmJ5R8pH",
      "include_colab_link": true
    },
    "kernelspec": {
      "name": "python3",
      "display_name": "Python 3"
    },
    "language_info": {
      "name": "python"
    }
  },
  "cells": [
    {
      "cell_type": "markdown",
      "metadata": {
        "id": "view-in-github",
        "colab_type": "text"
      },
      "source": [
        "<a href=\"https://colab.research.google.com/github/LhsEric/dscareer_dsml_exercies_coach/blob/main/Task_08_%E4%BD%9C%E6%A5%AD_02%E3%80%90%E5%AF%A6%E4%BD%9C%E9%A1%8C%E3%80%91%E6%A9%9F%E5%99%A8%E5%AD%B8%E7%BF%92_%E5%88%86%E9%A1%9E%E8%88%87%E8%BF%B4%E6%AD%B8.ipynb\" target=\"_parent\"><img src=\"https://colab.research.google.com/assets/colab-badge.svg\" alt=\"Open In Colab\"/></a>"
      ]
    },
    {
      "cell_type": "markdown",
      "source": [
        "＃Task #08 作業 02【實作題】機器學習 - 分類與迴歸"
      ],
      "metadata": {
        "id": "CrG8e7OBacfg"
      }
    },
    {
      "cell_type": "markdown",
      "source": [
        "練習：請根據給定的資料集，分成前 7 筆的訓練資料與後 3 筆的測試資料完成以下兩個分析：\n",
        "\n",
        "* 利用 Country, Age, Salary 對 Purchased 進行分類學習，印出後三筆資料的Purchased 為何\n",
        "* 利用 Country, Age, Purchased 對 Salary 進行迴歸學習，印出後三筆資料的 Salary 為何"
      ],
      "metadata": {
        "id": "KgQGrpVbaerg"
      }
    },
    {
      "cell_type": "code",
      "execution_count": 1,
      "metadata": {
        "id": "dN35MfrR-Dg-",
        "collapsed": true
      },
      "outputs": [],
      "source": [
        "import pandas as pd\n",
        "import statsmodels.api as sm\n",
        "from sklearn.preprocessing import LabelEncoder\n",
        "source = 'https://raw.githubusercontent.com/MachineLearningLiuMing/scikit-learn-primer-guide/master/Data.csv'\n"
      ]
    },
    {
      "cell_type": "code",
      "source": [
        "# Data Cleanung\n",
        "\n",
        "# 載入數據集\n",
        "data = pd.read_csv(source)\n",
        "\n",
        "# 用LabelEncoder進行標籤編碼法\n",
        "label1 = LabelEncoder()\n",
        "data['Purchased'] = label1.fit_transform(data['Purchased']) # No=0; Yes=1\n",
        "# 用get_dummies把 country 轉換為虛擬變數\n",
        "data = pd.get_dummies(data, columns=[\"Country\"])\n",
        "\n",
        "# 填充missing data\n",
        "data[\"Age\"].fillna(round(data[\"Age\"].mean(), 0), inplace=True)\n",
        "data[\"Salary\"].fillna(round(data[\"Salary\"].mean(), 0), inplace=True)\n",
        "\n",
        "print(data)\n",
        "\n",
        "# 分割資料 「取前 7 筆的訓練資料與後 3 筆的測試資料」\n",
        "train_data = data.iloc[:7, :]\n",
        "test_data = data.iloc[7:, :]\n",
        "\n",
        "print(train_data)"
      ],
      "metadata": {
        "colab": {
          "base_uri": "https://localhost:8080/"
        },
        "collapsed": true,
        "id": "walGY19ZLN3D",
        "outputId": "2512c4f1-bafe-4dc2-d85e-0e3878ef0f9a"
      },
      "execution_count": 2,
      "outputs": [
        {
          "output_type": "stream",
          "name": "stdout",
          "text": [
            "    Age   Salary  Purchased  Country_France  Country_Germany  Country_Spain\n",
            "0  44.0  72000.0          0            True            False          False\n",
            "1  27.0  48000.0          1           False            False           True\n",
            "2  30.0  54000.0          0           False             True          False\n",
            "3  38.0  61000.0          0           False            False           True\n",
            "4  40.0  63778.0          1           False             True          False\n",
            "5  35.0  58000.0          1            True            False          False\n",
            "6  39.0  52000.0          0           False            False           True\n",
            "7  48.0  79000.0          1            True            False          False\n",
            "8  50.0  83000.0          0           False             True          False\n",
            "9  37.0  67000.0          1            True            False          False\n",
            "    Age   Salary  Purchased  Country_France  Country_Germany  Country_Spain\n",
            "0  44.0  72000.0          0            True            False          False\n",
            "1  27.0  48000.0          1           False            False           True\n",
            "2  30.0  54000.0          0           False             True          False\n",
            "3  38.0  61000.0          0           False            False           True\n",
            "4  40.0  63778.0          1           False             True          False\n",
            "5  35.0  58000.0          1            True            False          False\n",
            "6  39.0  52000.0          0           False            False           True\n"
          ]
        }
      ]
    },
    {
      "cell_type": "code",
      "source": [
        "###分類分析###\n",
        "# 分類學習：利用 Country, Age, Salary 對 Purchased 進行分類學習，印出後三筆資料的Purchased 為何\n",
        "\n",
        "# 特徵矩陣\n",
        "x_train_class = train_data[[\"Country_France\", \"Country_Germany\", \"Country_Spain\", \"Age\", \"Salary\"]]\n",
        "\n",
        "# 目標變量\n",
        "y_train_class = train_data[\"Purchased\"]\n",
        "\n",
        "# 測試集特徵矩陣：評估模型性能\n",
        "x_test_class = test_data[[\"Country_France\", \"Country_Germany\", \"Country_Spain\", \"Age\", \"Salary\"]]\n",
        "\n",
        "# 決策樹(Decision Tree)\n",
        "from sklearn.tree import DecisionTreeClassifier\n",
        "model_dt = DecisionTreeClassifier()\n",
        "model_dt.fit(x_train_class, y_train_class)\n",
        "y_dc_pred = model_dt.predict(x_test_class)\n",
        "\n",
        "print(\"決策樹:\",y_dc_pred)\n",
        "\n",
        "# 隨機森林\n",
        "from sklearn.ensemble import RandomForestClassifier\n",
        "model_rfc = RandomForestClassifier()\n",
        "model_rfc.fit(x_train_class, y_train_class)\n",
        "y_rfc_pred = model_rfc.predict(x_test_class)\n",
        "\n",
        "print(\"隨機森林:\", y_rfc_pred)\n",
        "\n",
        "# SVM(SVC分類)\n",
        "from sklearn.svm import SVC\n",
        "model_svc = SVC()\n",
        "model_svc.fit(x_train_class, y_train_class)\n",
        "y_svc_pred = model_svc.predict(x_test_class)\n",
        "\n",
        "print(\"SVM:\", y_svc_pred)"
      ],
      "metadata": {
        "colab": {
          "base_uri": "https://localhost:8080/"
        },
        "id": "WMJJo6MjxL9y",
        "outputId": "b58485a9-8485-49ff-a07a-f16109dd4bdf"
      },
      "execution_count": 7,
      "outputs": [
        {
          "output_type": "stream",
          "name": "stdout",
          "text": [
            "決策樹: [0 1 0]\n",
            "隨機森林: [0 1 1]\n",
            "SVM: [0 0 0]\n"
          ]
        }
      ]
    },
    {
      "cell_type": "code",
      "source": [],
      "metadata": {
        "id": "EU0tOnQkbw75"
      },
      "execution_count": null,
      "outputs": []
    },
    {
      "cell_type": "code",
      "source": [
        "###迴歸分析###\n",
        "# 迴歸學習：利用 Country, Age, Purchased 對 Salary 進行迴歸學習，印出後三筆資料的 Salary 為何\n",
        "\n",
        "# 線性迴歸\n",
        "# 決策樹\n",
        "# 隨機森林\n",
        "# SVM(SVR回歸)"
      ],
      "metadata": {
        "id": "JtTZcAfS0QFQ"
      },
      "execution_count": 52,
      "outputs": []
    },
    {
      "cell_type": "code",
      "source": [
        "import pandas as pd\n",
        "from sklearn.linear_model import LinearRegression\n",
        "\n",
        "# 創建數據框\n",
        "data = pd.DataFrame({\n",
        "    'Age': [22, 25, 47, 52],\n",
        "    'Gender': ['Male', 'Female', 'Female', 'Male'],\n",
        "    'Income': [50000, 60000, 120000, 140000]\n",
        "})\n",
        "\n",
        "# 將 'Gender' 列轉換為虛擬變數\n",
        "datax = pd.get_dummies(data, columns=['Gender'], drop_first=True)\n",
        "print(datax)\n",
        "# 分割特徵和目標變數\n",
        "X = data[['Age', 'Gender_Male']]\n",
        "y = data['Income']\n",
        "\n",
        "# 創建和訓練模型\n",
        "model = LinearRegression()\n",
        "model.fit(X, y)\n",
        "\n",
        "print(model.coef_, model.intercept_)"
      ],
      "metadata": {
        "colab": {
          "base_uri": "https://localhost:8080/",
          "height": 463
        },
        "id": "kVzKUcoxPd28",
        "outputId": "7231b086-08fa-4471-f6de-e81e2a428654"
      },
      "execution_count": 42,
      "outputs": [
        {
          "output_type": "stream",
          "name": "stdout",
          "text": [
            "   Age  Income  Gender_Male\n",
            "0   22   50000         True\n",
            "1   25   60000        False\n",
            "2   47  120000        False\n",
            "3   52  140000         True\n"
          ]
        },
        {
          "output_type": "error",
          "ename": "KeyError",
          "evalue": "\"['Gender_Male'] not in index\"",
          "traceback": [
            "\u001b[0;31m---------------------------------------------------------------------------\u001b[0m",
            "\u001b[0;31mKeyError\u001b[0m                                  Traceback (most recent call last)",
            "\u001b[0;32m<ipython-input-42-844ee4645bfa>\u001b[0m in \u001b[0;36m<cell line: 15>\u001b[0;34m()\u001b[0m\n\u001b[1;32m     13\u001b[0m \u001b[0mprint\u001b[0m\u001b[0;34m(\u001b[0m\u001b[0mdatax\u001b[0m\u001b[0;34m)\u001b[0m\u001b[0;34m\u001b[0m\u001b[0;34m\u001b[0m\u001b[0m\n\u001b[1;32m     14\u001b[0m \u001b[0;31m# 分割特徵和目標變數\u001b[0m\u001b[0;34m\u001b[0m\u001b[0;34m\u001b[0m\u001b[0m\n\u001b[0;32m---> 15\u001b[0;31m \u001b[0mX\u001b[0m \u001b[0;34m=\u001b[0m \u001b[0mdata\u001b[0m\u001b[0;34m[\u001b[0m\u001b[0;34m[\u001b[0m\u001b[0;34m'Age'\u001b[0m\u001b[0;34m,\u001b[0m \u001b[0;34m'Gender_Male'\u001b[0m\u001b[0;34m]\u001b[0m\u001b[0;34m]\u001b[0m\u001b[0;34m\u001b[0m\u001b[0;34m\u001b[0m\u001b[0m\n\u001b[0m\u001b[1;32m     16\u001b[0m \u001b[0my\u001b[0m \u001b[0;34m=\u001b[0m \u001b[0mdata\u001b[0m\u001b[0;34m[\u001b[0m\u001b[0;34m'Income'\u001b[0m\u001b[0;34m]\u001b[0m\u001b[0;34m\u001b[0m\u001b[0;34m\u001b[0m\u001b[0m\n\u001b[1;32m     17\u001b[0m \u001b[0;34m\u001b[0m\u001b[0m\n",
            "\u001b[0;32m/usr/local/lib/python3.10/dist-packages/pandas/core/frame.py\u001b[0m in \u001b[0;36m__getitem__\u001b[0;34m(self, key)\u001b[0m\n\u001b[1;32m   3765\u001b[0m             \u001b[0;32mif\u001b[0m \u001b[0mis_iterator\u001b[0m\u001b[0;34m(\u001b[0m\u001b[0mkey\u001b[0m\u001b[0;34m)\u001b[0m\u001b[0;34m:\u001b[0m\u001b[0;34m\u001b[0m\u001b[0;34m\u001b[0m\u001b[0m\n\u001b[1;32m   3766\u001b[0m                 \u001b[0mkey\u001b[0m \u001b[0;34m=\u001b[0m \u001b[0mlist\u001b[0m\u001b[0;34m(\u001b[0m\u001b[0mkey\u001b[0m\u001b[0;34m)\u001b[0m\u001b[0;34m\u001b[0m\u001b[0;34m\u001b[0m\u001b[0m\n\u001b[0;32m-> 3767\u001b[0;31m             \u001b[0mindexer\u001b[0m \u001b[0;34m=\u001b[0m \u001b[0mself\u001b[0m\u001b[0;34m.\u001b[0m\u001b[0mcolumns\u001b[0m\u001b[0;34m.\u001b[0m\u001b[0m_get_indexer_strict\u001b[0m\u001b[0;34m(\u001b[0m\u001b[0mkey\u001b[0m\u001b[0;34m,\u001b[0m \u001b[0;34m\"columns\"\u001b[0m\u001b[0;34m)\u001b[0m\u001b[0;34m[\u001b[0m\u001b[0;36m1\u001b[0m\u001b[0;34m]\u001b[0m\u001b[0;34m\u001b[0m\u001b[0;34m\u001b[0m\u001b[0m\n\u001b[0m\u001b[1;32m   3768\u001b[0m \u001b[0;34m\u001b[0m\u001b[0m\n\u001b[1;32m   3769\u001b[0m         \u001b[0;31m# take() does not accept boolean indexers\u001b[0m\u001b[0;34m\u001b[0m\u001b[0;34m\u001b[0m\u001b[0m\n",
            "\u001b[0;32m/usr/local/lib/python3.10/dist-packages/pandas/core/indexes/base.py\u001b[0m in \u001b[0;36m_get_indexer_strict\u001b[0;34m(self, key, axis_name)\u001b[0m\n\u001b[1;32m   5875\u001b[0m             \u001b[0mkeyarr\u001b[0m\u001b[0;34m,\u001b[0m \u001b[0mindexer\u001b[0m\u001b[0;34m,\u001b[0m \u001b[0mnew_indexer\u001b[0m \u001b[0;34m=\u001b[0m \u001b[0mself\u001b[0m\u001b[0;34m.\u001b[0m\u001b[0m_reindex_non_unique\u001b[0m\u001b[0;34m(\u001b[0m\u001b[0mkeyarr\u001b[0m\u001b[0;34m)\u001b[0m\u001b[0;34m\u001b[0m\u001b[0;34m\u001b[0m\u001b[0m\n\u001b[1;32m   5876\u001b[0m \u001b[0;34m\u001b[0m\u001b[0m\n\u001b[0;32m-> 5877\u001b[0;31m         \u001b[0mself\u001b[0m\u001b[0;34m.\u001b[0m\u001b[0m_raise_if_missing\u001b[0m\u001b[0;34m(\u001b[0m\u001b[0mkeyarr\u001b[0m\u001b[0;34m,\u001b[0m \u001b[0mindexer\u001b[0m\u001b[0;34m,\u001b[0m \u001b[0maxis_name\u001b[0m\u001b[0;34m)\u001b[0m\u001b[0;34m\u001b[0m\u001b[0;34m\u001b[0m\u001b[0m\n\u001b[0m\u001b[1;32m   5878\u001b[0m \u001b[0;34m\u001b[0m\u001b[0m\n\u001b[1;32m   5879\u001b[0m         \u001b[0mkeyarr\u001b[0m \u001b[0;34m=\u001b[0m \u001b[0mself\u001b[0m\u001b[0;34m.\u001b[0m\u001b[0mtake\u001b[0m\u001b[0;34m(\u001b[0m\u001b[0mindexer\u001b[0m\u001b[0;34m)\u001b[0m\u001b[0;34m\u001b[0m\u001b[0;34m\u001b[0m\u001b[0m\n",
            "\u001b[0;32m/usr/local/lib/python3.10/dist-packages/pandas/core/indexes/base.py\u001b[0m in \u001b[0;36m_raise_if_missing\u001b[0;34m(self, key, indexer, axis_name)\u001b[0m\n\u001b[1;32m   5939\u001b[0m \u001b[0;34m\u001b[0m\u001b[0m\n\u001b[1;32m   5940\u001b[0m             \u001b[0mnot_found\u001b[0m \u001b[0;34m=\u001b[0m \u001b[0mlist\u001b[0m\u001b[0;34m(\u001b[0m\u001b[0mensure_index\u001b[0m\u001b[0;34m(\u001b[0m\u001b[0mkey\u001b[0m\u001b[0;34m)\u001b[0m\u001b[0;34m[\u001b[0m\u001b[0mmissing_mask\u001b[0m\u001b[0;34m.\u001b[0m\u001b[0mnonzero\u001b[0m\u001b[0;34m(\u001b[0m\u001b[0;34m)\u001b[0m\u001b[0;34m[\u001b[0m\u001b[0;36m0\u001b[0m\u001b[0;34m]\u001b[0m\u001b[0;34m]\u001b[0m\u001b[0;34m.\u001b[0m\u001b[0munique\u001b[0m\u001b[0;34m(\u001b[0m\u001b[0;34m)\u001b[0m\u001b[0;34m)\u001b[0m\u001b[0;34m\u001b[0m\u001b[0;34m\u001b[0m\u001b[0m\n\u001b[0;32m-> 5941\u001b[0;31m             \u001b[0;32mraise\u001b[0m \u001b[0mKeyError\u001b[0m\u001b[0;34m(\u001b[0m\u001b[0;34mf\"{not_found} not in index\"\u001b[0m\u001b[0;34m)\u001b[0m\u001b[0;34m\u001b[0m\u001b[0;34m\u001b[0m\u001b[0m\n\u001b[0m\u001b[1;32m   5942\u001b[0m \u001b[0;34m\u001b[0m\u001b[0m\n\u001b[1;32m   5943\u001b[0m     \u001b[0;34m@\u001b[0m\u001b[0moverload\u001b[0m\u001b[0;34m\u001b[0m\u001b[0;34m\u001b[0m\u001b[0m\n",
            "\u001b[0;31mKeyError\u001b[0m: \"['Gender_Male'] not in index\""
          ]
        }
      ]
    },
    {
      "cell_type": "code",
      "source": [],
      "metadata": {
        "colab": {
          "base_uri": "https://localhost:8080/"
        },
        "id": "_5WA7NFvPl_3",
        "outputId": "86864686-d460-45a0-bd8b-002122fa014b"
      },
      "execution_count": 16,
      "outputs": [
        {
          "output_type": "stream",
          "name": "stdout",
          "text": [
            "     sepal length (cm)  sepal width (cm)  petal length (cm)  petal width (cm)\n",
            "0                  5.1               3.5                1.4               0.2\n",
            "1                  4.9               3.0                1.4               0.2\n",
            "2                  4.7               3.2                1.3               0.2\n",
            "3                  4.6               3.1                1.5               0.2\n",
            "4                  5.0               3.6                1.4               0.2\n",
            "..                 ...               ...                ...               ...\n",
            "145                6.7               3.0                5.2               2.3\n",
            "146                6.3               2.5                5.0               1.9\n",
            "147                6.5               3.0                5.2               2.0\n",
            "148                6.2               3.4                5.4               2.3\n",
            "149                5.9               3.0                5.1               1.8\n",
            "\n",
            "[150 rows x 4 columns]\n",
            "[0 0 0 0 0 0 0 0 0 0 0 0 0 0 0 0 0 0 0 0 0 0 0 0 0 0 0 0 0 0 0 0 0 0 0 0 0\n",
            " 0 0 0 0 0 0 0 0 0 0 0 0 0 1 1 1 1 1 1 1 1 1 1 1 1 1 1 1 1 1 1 1 1 1 1 1 1\n",
            " 1 1 1 1 1 1 1 1 1 1 1 1 1 1 1 1 1 1 1 1 1 1 1 1 1 1 2 2 2 2 2 2 2 2 2 2 2\n",
            " 2 2 2 2 2 2 2 2 2 2 2 2 2 2 2 2 2 2 2 2 2 2 2 2 2 2 2 2 2 2 2 2 2 2 2 2 2\n",
            " 2 2]\n"
          ]
        }
      ]
    }
  ]
}