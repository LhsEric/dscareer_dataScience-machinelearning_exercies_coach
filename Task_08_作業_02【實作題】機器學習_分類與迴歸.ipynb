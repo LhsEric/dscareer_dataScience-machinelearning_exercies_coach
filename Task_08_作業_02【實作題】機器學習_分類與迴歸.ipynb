{
  "nbformat": 4,
  "nbformat_minor": 0,
  "metadata": {
    "colab": {
      "provenance": [],
      "authorship_tag": "ABX9TyPgeog0shnVZC+HdHGPz+hu",
      "include_colab_link": true
    },
    "kernelspec": {
      "name": "python3",
      "display_name": "Python 3"
    },
    "language_info": {
      "name": "python"
    }
  },
  "cells": [
    {
      "cell_type": "markdown",
      "metadata": {
        "id": "view-in-github",
        "colab_type": "text"
      },
      "source": [
        "<a href=\"https://colab.research.google.com/github/LhsEric/dscareer_dsml_exercies_coach/blob/main/Task_08_%E4%BD%9C%E6%A5%AD_02%E3%80%90%E5%AF%A6%E4%BD%9C%E9%A1%8C%E3%80%91%E6%A9%9F%E5%99%A8%E5%AD%B8%E7%BF%92_%E5%88%86%E9%A1%9E%E8%88%87%E8%BF%B4%E6%AD%B8.ipynb\" target=\"_parent\"><img src=\"https://colab.research.google.com/assets/colab-badge.svg\" alt=\"Open In Colab\"/></a>"
      ]
    },
    {
      "cell_type": "markdown",
      "source": [
        "＃Task #08 作業 02【實作題】機器學習 - 分類與迴歸"
      ],
      "metadata": {
        "id": "CrG8e7OBacfg"
      }
    },
    {
      "cell_type": "markdown",
      "source": [
        "練習：請根據給定的資料集，分成前 7 筆的訓練資料與後 3 筆的測試資料完成以下兩個分析：\n",
        "\n",
        "* 利用 Country, Age, Salary 對 Purchased 進行分類學習，印出後三筆資料的Purchased 為何\n",
        "* 利用 Country, Age, Purchased 對 Salary 進行迴歸學習，印出後三筆資料的 Salary 為何"
      ],
      "metadata": {
        "id": "KgQGrpVbaerg"
      }
    },
    {
      "cell_type": "code",
      "execution_count": 1,
      "metadata": {
        "id": "dN35MfrR-Dg-",
        "collapsed": true
      },
      "outputs": [],
      "source": [
        "import pandas as pd\n",
        "import statsmodels.api as sm\n",
        "from sklearn.preprocessing import LabelEncoder\n",
        "source = 'https://raw.githubusercontent.com/MachineLearningLiuMing/scikit-learn-primer-guide/master/Data.csv'\n"
      ]
    },
    {
      "cell_type": "code",
      "source": [
        "# Data Cleanung\n",
        "\n",
        "# 載入數據集\n",
        "data = pd.read_csv(source)\n",
        "\n",
        "# 用LabelEncoder進行標籤編碼法\n",
        "label1 = LabelEncoder()\n",
        "data['Purchased'] = label1.fit_transform(data['Purchased']) # No=0; Yes=1\n",
        "# 用get_dummies把 country 轉換為虛擬變數\n",
        "data = pd.get_dummies(data, columns=[\"Country\"])\n",
        "\n",
        "# 填充missing data\n",
        "data[\"Age\"].fillna(round(data[\"Age\"].mean(), 0), inplace=True)\n",
        "data[\"Salary\"].fillna(round(data[\"Salary\"].mean(), 0), inplace=True)\n",
        "\n",
        "print(data)\n",
        "\n",
        "# 分割資料 「取前 7 筆的訓練資料與後 3 筆的測試資料」\n",
        "train_data = data.iloc[:7, :]\n",
        "test_data = data.iloc[7:, :]\n",
        "\n",
        "print(train_data)"
      ],
      "metadata": {
        "colab": {
          "base_uri": "https://localhost:8080/"
        },
        "collapsed": true,
        "id": "walGY19ZLN3D",
        "outputId": "f9b8a8d9-56df-4165-d951-6793fd95ccee"
      },
      "execution_count": 2,
      "outputs": [
        {
          "output_type": "stream",
          "name": "stdout",
          "text": [
            "    Age   Salary  Purchased  Country_France  Country_Germany  Country_Spain\n",
            "0  44.0  72000.0          0            True            False          False\n",
            "1  27.0  48000.0          1           False            False           True\n",
            "2  30.0  54000.0          0           False             True          False\n",
            "3  38.0  61000.0          0           False            False           True\n",
            "4  40.0  63778.0          1           False             True          False\n",
            "5  35.0  58000.0          1            True            False          False\n",
            "6  39.0  52000.0          0           False            False           True\n",
            "7  48.0  79000.0          1            True            False          False\n",
            "8  50.0  83000.0          0           False             True          False\n",
            "9  37.0  67000.0          1            True            False          False\n",
            "    Age   Salary  Purchased  Country_France  Country_Germany  Country_Spain\n",
            "0  44.0  72000.0          0            True            False          False\n",
            "1  27.0  48000.0          1           False            False           True\n",
            "2  30.0  54000.0          0           False             True          False\n",
            "3  38.0  61000.0          0           False            False           True\n",
            "4  40.0  63778.0          1           False             True          False\n",
            "5  35.0  58000.0          1            True            False          False\n",
            "6  39.0  52000.0          0           False            False           True\n"
          ]
        }
      ]
    },
    {
      "cell_type": "code",
      "source": [
        "###分類分析###\n",
        "# 分類學習：利用 Country, Age, Salary 對 Purchased 進行分類學習，印出後三筆資料的Purchased 為何\n",
        "\n",
        "# 特徵矩陣(以Country, Age, Salary作為特徵) (train_data)\n",
        "x_train_class = train_data[[\"Country_France\", \"Country_Germany\", \"Country_Spain\", \"Age\", \"Salary\"]]\n",
        "\n",
        "# 目標變量(以Purchased作為分類目標) (train_data)\n",
        "y_train_class = train_data[\"Purchased\"]\n",
        "\n",
        "# 測試集特徵矩陣：評估模型性能 (test_data)\n",
        "x_test_class = test_data[[\"Country_France\", \"Country_Germany\", \"Country_Spain\", \"Age\", \"Salary\"]]\n",
        "\n",
        "# 決策樹(Decision Tree)\n",
        "from sklearn.tree import DecisionTreeClassifier\n",
        "model_dt = DecisionTreeClassifier()         # 創建決策樹模型\n",
        "model_dt.fit(x_train_class, y_train_class)      # 訓練模型\n",
        "y_dc_pred = model_dt.predict(x_test_class)     # 使用模型進行預測\n",
        "\n",
        "print(\"「決策樹」分類後三筆資料的分類:\",y_dc_pred)\n",
        "\n",
        "# 隨機森林\n",
        "from sklearn.ensemble import RandomForestClassifier\n",
        "model_rfc = RandomForestClassifier()\n",
        "model_rfc.fit(x_train_class, y_train_class)\n",
        "y_rfc_pred = model_rfc.predict(x_test_class)\n",
        "\n",
        "print(\"「隨機森林」分類後三筆資料的分類:\", y_rfc_pred)\n",
        "\n",
        "# SVM(SVC分類)\n",
        "from sklearn.svm import SVC\n",
        "model_svc = SVC()\n",
        "model_svc.fit(x_train_class, y_train_class)\n",
        "y_svc_pred = model_svc.predict(x_test_class)\n",
        "\n",
        "print(\"「SVM」分類後三筆資料的分類:\", y_svc_pred)"
      ],
      "metadata": {
        "colab": {
          "base_uri": "https://localhost:8080/"
        },
        "id": "WMJJo6MjxL9y",
        "outputId": "5e781206-bd54-4571-b870-8c1abf2c45de"
      },
      "execution_count": 11,
      "outputs": [
        {
          "output_type": "stream",
          "name": "stdout",
          "text": [
            "「決策樹」分類後三筆資料的分類: [0 1 0]\n",
            "「隨機森林」分類後三筆資料的分類: [0 0 0]\n",
            "「SVM」分類後三筆資料的分類: [0 0 0]\n"
          ]
        }
      ]
    },
    {
      "cell_type": "code",
      "source": [
        "###迴歸分析###\n",
        "# 迴歸學習：利用 Country, Age, Purchased 對 Salary 進行迴歸學習，印出後三筆資料的 Salary 為何\n",
        "\n",
        "# 特徵矩陣\n",
        "x_train_reg = train_data[[\"Country_France\", \"Country_Germany\", \"Country_Spain\", \"Age\", \"Purchased\"]]\n",
        "\n",
        "# 目標變量\n",
        "y_train_reg = train_data[\"Salary\"]\n",
        "\n",
        "# 測試集特徵矩陣：評估模型性能\n",
        "x_test_reg = test_data[[\"Country_France\", \"Country_Germany\", \"Country_Spain\", \"Age\", \"Purchased\"]]\n",
        "\n",
        "# 線性迴歸\n",
        "from sklearn.linear_model import LinearRegression\n",
        "model_linreg = LinearRegression()            # 創建線性迴歸模型\n",
        "model_linreg.fit(x_train_reg, y_train_reg)        # 訓練模型\n",
        "y_linreg_pred = model_linreg.predict(x_test_reg)     # 使用模型進行預測\n",
        "\n",
        "print(\"線性回歸預測:\", y_linreg_pred)\n",
        "print(\"模型係數:\", model_linreg.coef_)          # 輸出模型的係數和截距 「.coef_」「.intercept」\n",
        "print(\"模型截距:\", model_linreg.intercept_)\n",
        "\n",
        "# 決策樹\n",
        "from sklearn.tree import DecisionTreeRegressor\n",
        "model_DTR = DecisionTreeRegressor()\n",
        "model_DTR.fit(x_train_reg, y_train_reg)\n",
        "y_DTR_pred = model_DTR.predict(x_test_reg)\n",
        "\n",
        "print(\"決策樹回歸預測:\", y_linreg_pred)\n",
        "\n",
        "# 隨機森林\n",
        "from sklearn.ensemble import RandomForestRegressor\n",
        "model_RFR = RandomForestRegressor()\n",
        "model_RFR.fit(x_train_reg, y_train_reg)\n",
        "y_RFR_pred = model_RFR.predict(x_test_reg)\n",
        "\n",
        "print(\"隨機森林回歸預測:\", y_linreg_pred)\n",
        "\n",
        "# SVM(SVR回歸)\n",
        "from sklearn.svm import SVR\n",
        "model_SVR = SVR()\n",
        "model_SVR.fit(x_train_reg, y_train_reg)\n",
        "y_SVR_pred = model_SVR.predict(x_test_reg)\n",
        "\n",
        "print(\"SVR回歸預測:\", y_SVR_pred)"
      ],
      "metadata": {
        "id": "JtTZcAfS0QFQ",
        "colab": {
          "base_uri": "https://localhost:8080/"
        },
        "outputId": "1a81088b-5d03-4591-8446-cd2cc85b3cf2"
      },
      "execution_count": 13,
      "outputs": [
        {
          "output_type": "stream",
          "name": "stdout",
          "text": [
            "線性回歸預測: [72653.55712841 73272.16986855 62338.4934277 ]\n",
            "模型係數: [ 2932.62756994  1041.42635659 -3974.05392653   937.7330637\n",
            "  -634.34782609]\n",
            "模型截距: 25344.09032692958\n",
            "決策樹回歸預測: [72653.55712841 73272.16986855 62338.4934277 ]\n",
            "隨機森林回歸預測: [72653.55712841 73272.16986855 62338.4934277 ]\n",
            "SVR回歸預測: [58000.52276414 58000.57219959 58000.09305094]\n"
          ]
        }
      ]
    }
  ]
}