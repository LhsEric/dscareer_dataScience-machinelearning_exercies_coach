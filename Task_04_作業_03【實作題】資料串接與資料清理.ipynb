{
  "nbformat": 4,
  "nbformat_minor": 0,
  "metadata": {
    "colab": {
      "provenance": [],
      "authorship_tag": "ABX9TyMpPpcpZyZWJCMlpGlCg9SU",
      "include_colab_link": true
    },
    "kernelspec": {
      "name": "python3",
      "display_name": "Python 3"
    },
    "language_info": {
      "name": "python"
    }
  },
  "cells": [
    {
      "cell_type": "markdown",
      "metadata": {
        "id": "view-in-github",
        "colab_type": "text"
      },
      "source": [
        "<a href=\"https://colab.research.google.com/github/LhsEric/dscareer_dsml_exercies_coach/blob/main/Task_04_%E4%BD%9C%E6%A5%AD_03%E3%80%90%E5%AF%A6%E4%BD%9C%E9%A1%8C%E3%80%91%E8%B3%87%E6%96%99%E4%B8%B2%E6%8E%A5%E8%88%87%E8%B3%87%E6%96%99%E6%B8%85%E7%90%86.ipynb\" target=\"_parent\"><img src=\"https://colab.research.google.com/assets/colab-badge.svg\" alt=\"Open In Colab\"/></a>"
      ]
    },
    {
      "cell_type": "markdown",
      "source": [
        "#Task #04 作業 03【實作題】資料串接與資料清理"
      ],
      "metadata": {
        "id": "JXt8Mtq_BlXc"
      }
    },
    {
      "cell_type": "markdown",
      "source": [
        "How to check if a dataframe has any missing values？Check if df has any missing values.\n",
        "\n",
        "1.   Count the number of missing values in each column and find the maximum number of missing values.\n",
        "2.   How to replace missing values of `multiple numeric` columns with the mean?\n",
        "3. Calculate the average price of different manufacturers.\n",
        "4. How to replace missing values of `price` columns with the mean depending on its manufacturers?"
      ],
      "metadata": {
        "id": "aHkm4PZKnSRK"
      }
    },
    {
      "cell_type": "code",
      "execution_count": null,
      "metadata": {
        "colab": {
          "base_uri": "https://localhost:8080/"
        },
        "id": "qlCYcgODll44",
        "outputId": "4d2dd3ba-90f0-4fdf-8a4b-222d95f70f7c"
      },
      "outputs": [
        {
          "output_type": "stream",
          "name": "stdout",
          "text": [
            "   Manufacturer    Model     Type  Min.Price  Price  Max.Price  MPG.city  \\\n",
            "0         Acura  Integra    Small       12.9   15.9       18.8      25.0   \n",
            "1           NaN   Legend  Midsize       29.2   33.9       38.7      18.0   \n",
            "2          Audi       90  Compact       25.9   29.1       32.3      20.0   \n",
            "3          Audi      100  Midsize        NaN   37.7       44.6      19.0   \n",
            "4           BMW     535i  Midsize        NaN   30.0        NaN      22.0   \n",
            "..          ...      ...      ...        ...    ...        ...       ...   \n",
            "88   Volkswagen  Eurovan      Van       16.6   19.7       22.7      17.0   \n",
            "89   Volkswagen   Passat  Compact       17.6   20.0       22.4      21.0   \n",
            "90   Volkswagen  Corrado   Sporty       22.9   23.3       23.7      18.0   \n",
            "91        Volvo      240  Compact       21.8   22.7       23.5      21.0   \n",
            "92          NaN      850  Midsize       24.8   26.7       28.5      20.0   \n",
            "\n",
            "    MPG.highway             AirBags DriveTrain  ... Passengers  Length  \\\n",
            "0          31.0                None      Front  ...        5.0   177.0   \n",
            "1          25.0  Driver & Passenger      Front  ...        5.0   195.0   \n",
            "2          26.0         Driver only      Front  ...        5.0   180.0   \n",
            "3          26.0  Driver & Passenger        NaN  ...        6.0   193.0   \n",
            "4          30.0                 NaN       Rear  ...        4.0   186.0   \n",
            "..          ...                 ...        ...  ...        ...     ...   \n",
            "88         21.0                None      Front  ...        7.0   187.0   \n",
            "89         30.0                None      Front  ...        5.0   180.0   \n",
            "90         25.0                None      Front  ...        4.0   159.0   \n",
            "91         28.0         Driver only       Rear  ...        5.0   190.0   \n",
            "92         28.0  Driver & Passenger      Front  ...        5.0   184.0   \n",
            "\n",
            "    Wheelbase  Width  Turn.circle Rear.seat.room  Luggage.room  Weight  \\\n",
            "0       102.0   68.0         37.0           26.5           NaN  2705.0   \n",
            "1       115.0   71.0         38.0           30.0          15.0  3560.0   \n",
            "2       102.0   67.0         37.0           28.0          14.0  3375.0   \n",
            "3       106.0    NaN         37.0           31.0          17.0  3405.0   \n",
            "4       109.0   69.0         39.0           27.0          13.0  3640.0   \n",
            "..        ...    ...          ...            ...           ...     ...   \n",
            "88      115.0   72.0         38.0           34.0           NaN  3960.0   \n",
            "89      103.0   67.0         35.0           31.5          14.0  2985.0   \n",
            "90       97.0   66.0         36.0           26.0          15.0  2810.0   \n",
            "91      104.0   67.0         37.0           29.5          14.0  2985.0   \n",
            "92      105.0   69.0         38.0           30.0          15.0  3245.0   \n",
            "\n",
            "     Origin                Make  \n",
            "0   non-USA       Acura Integra  \n",
            "1   non-USA        Acura Legend  \n",
            "2   non-USA             Audi 90  \n",
            "3   non-USA            Audi 100  \n",
            "4   non-USA            BMW 535i  \n",
            "..      ...                 ...  \n",
            "88      NaN  Volkswagen Eurovan  \n",
            "89  non-USA   Volkswagen Passat  \n",
            "90  non-USA  Volkswagen Corrado  \n",
            "91  non-USA           Volvo 240  \n",
            "92  non-USA           Volvo 850  \n",
            "\n",
            "[93 rows x 27 columns]\n"
          ]
        }
      ],
      "source": [
        "import pandas as pd\n",
        "url = 'https://raw.githubusercontent.com/selva86/datasets/master/Cars93_miss.csv'\n",
        "df = pd.read_csv(url)\n",
        "print(df)"
      ]
    },
    {
      "cell_type": "code",
      "source": [
        "#How to check if a dataframe has any missing values？Check if df has any missing values.\n",
        "#Count the number of missing values in each column and find the maximum number of missing values.\n",
        "df.isnull().sum()"
      ],
      "metadata": {
        "colab": {
          "base_uri": "https://localhost:8080/"
        },
        "id": "IxTLc4vNNNL-",
        "outputId": "90495643-49f2-479d-f800-bf6429b130aa"
      },
      "execution_count": null,
      "outputs": [
        {
          "output_type": "execute_result",
          "data": {
            "text/plain": [
              "Manufacturer           4\n",
              "Model                  1\n",
              "Type                   3\n",
              "Min.Price              7\n",
              "Price                  2\n",
              "Max.Price              5\n",
              "MPG.city               9\n",
              "MPG.highway            2\n",
              "AirBags                6\n",
              "DriveTrain             7\n",
              "Cylinders              5\n",
              "EngineSize             2\n",
              "Horsepower             7\n",
              "RPM                    3\n",
              "Rev.per.mile           6\n",
              "Man.trans.avail        5\n",
              "Fuel.tank.capacity     8\n",
              "Passengers             2\n",
              "Length                 4\n",
              "Wheelbase              1\n",
              "Width                  6\n",
              "Turn.circle            5\n",
              "Rear.seat.room         4\n",
              "Luggage.room          19\n",
              "Weight                 7\n",
              "Origin                 5\n",
              "Make                   3\n",
              "dtype: int64"
            ]
          },
          "metadata": {},
          "execution_count": 24
        }
      ]
    },
    {
      "cell_type": "code",
      "source": [
        "#How to replace missing values of multiple numeric columns with the mean?\n",
        "df.fillna(df.mean(), inplace=True)\n",
        "print(df.isnull().sum())"
      ],
      "metadata": {
        "colab": {
          "base_uri": "https://localhost:8080/"
        },
        "id": "Nvsr8yFvYPq6",
        "outputId": "43a2f238-8ed2-498e-93af-d32e6c1e7696"
      },
      "execution_count": null,
      "outputs": [
        {
          "output_type": "stream",
          "name": "stdout",
          "text": [
            "Manufacturer          4\n",
            "Model                 1\n",
            "Type                  3\n",
            "Min.Price             0\n",
            "Price                 0\n",
            "Max.Price             0\n",
            "MPG.city              0\n",
            "MPG.highway           0\n",
            "AirBags               6\n",
            "DriveTrain            7\n",
            "Cylinders             5\n",
            "EngineSize            0\n",
            "Horsepower            0\n",
            "RPM                   0\n",
            "Rev.per.mile          0\n",
            "Man.trans.avail       5\n",
            "Fuel.tank.capacity    0\n",
            "Passengers            0\n",
            "Length                0\n",
            "Wheelbase             0\n",
            "Width                 0\n",
            "Turn.circle           0\n",
            "Rear.seat.room        0\n",
            "Luggage.room          0\n",
            "Weight                0\n",
            "Origin                5\n",
            "Make                  3\n",
            "dtype: int64\n"
          ]
        },
        {
          "output_type": "stream",
          "name": "stderr",
          "text": [
            "<ipython-input-25-3aabedd5348e>:2: FutureWarning: The default value of numeric_only in DataFrame.mean is deprecated. In a future version, it will default to False. In addition, specifying 'numeric_only=None' is deprecated. Select only valid columns or specify the value of numeric_only to silence this warning.\n",
            "  df.fillna(df.mean(), inplace=True)\n"
          ]
        }
      ]
    },
    {
      "cell_type": "code",
      "source": [
        "#Calculate the average price of different manufacturers.\n",
        "price_mean_groupbyed = df.groupby(\"Manufacturer\")['Price'].mean()\n",
        "print(price_mean_groupbyed)"
      ],
      "metadata": {
        "colab": {
          "base_uri": "https://localhost:8080/"
        },
        "id": "7efsLMxQZmku",
        "outputId": "1f45766d-9b16-4956-f28b-61527b948602"
      },
      "execution_count": null,
      "outputs": [
        {
          "output_type": "stream",
          "name": "stdout",
          "text": [
            "Manufacturer\n",
            "Acura            15.900000\n",
            "Audi             33.400000\n",
            "BMW              30.000000\n",
            "Buick            21.625000\n",
            "Cadillac         37.400000\n",
            "Chevrolet        18.187500\n",
            "Chrysler         22.650000\n",
            "Dodge            15.700000\n",
            "Eagle            15.750000\n",
            "Ford             14.962500\n",
            "Geo              10.450000\n",
            "Honda            16.466667\n",
            "Hyundai          10.475000\n",
            "Infiniti         47.900000\n",
            "Lexus            28.000000\n",
            "Lincoln          35.200000\n",
            "Mazda            17.600000\n",
            "Mercedes-Benz    46.900000\n",
            "Mercury          14.500000\n",
            "Mitsubishi       18.200000\n",
            "Nissan           17.025000\n",
            "Oldsmobile       17.500000\n",
            "Plymouth         14.400000\n",
            "Pontiac          16.140000\n",
            "Saab             28.700000\n",
            "Saturn           19.616484\n",
            "Subaru           12.933333\n",
            "Suzuki            8.600000\n",
            "Toyota           17.629121\n",
            "Volkswagen       18.025000\n",
            "Volvo            22.700000\n",
            "Name: Price, dtype: float64\n"
          ]
        }
      ]
    },
    {
      "cell_type": "code",
      "source": [
        "#How to replace missing values of price columns with the mean depending on its manufacturers?\n",
        "df['Price'].fillna(price_mean_groupbyed, inplace=True)"
      ],
      "metadata": {
        "id": "O0DN_g1jdF5R"
      },
      "execution_count": null,
      "outputs": []
    }
  ]
}