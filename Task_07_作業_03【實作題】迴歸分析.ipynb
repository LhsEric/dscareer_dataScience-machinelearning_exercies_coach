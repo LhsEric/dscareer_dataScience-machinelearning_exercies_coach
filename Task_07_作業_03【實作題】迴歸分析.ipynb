{
  "nbformat": 4,
  "nbformat_minor": 0,
  "metadata": {
    "colab": {
      "provenance": [],
      "authorship_tag": "ABX9TyMWBmOfJYlJ3qbRCoNnoZu6",
      "include_colab_link": true
    },
    "kernelspec": {
      "name": "python3",
      "display_name": "Python 3"
    },
    "language_info": {
      "name": "python"
    }
  },
  "cells": [
    {
      "cell_type": "markdown",
      "metadata": {
        "id": "view-in-github",
        "colab_type": "text"
      },
      "source": [
        "<a href=\"https://colab.research.google.com/github/LhsEric/dscareer_dsml_exercies_coach/blob/main/Task_07_%E4%BD%9C%E6%A5%AD_03%E3%80%90%E5%AF%A6%E4%BD%9C%E9%A1%8C%E3%80%91%E8%BF%B4%E6%AD%B8%E5%88%86%E6%9E%90.ipynb\" target=\"_parent\"><img src=\"https://colab.research.google.com/assets/colab-badge.svg\" alt=\"Open In Colab\"/></a>"
      ]
    },
    {
      "cell_type": "markdown",
      "source": [
        "#Task #07 作業 03【實作題】迴歸分析"
      ],
      "metadata": {
        "id": "WrAiaS02G0Ky"
      }
    },
    {
      "cell_type": "markdown",
      "source": [
        "練習：\n",
        "\n",
        "* 將 `winequality-both` 資料的後 10 筆資料當成「測試資料」、其餘資料作為「訓練資料」；\n",
        "* 想要利用除了 type、quality 之外的欄位（X） 對 quality 欄位（y） 進行迴歸分析。請試著完成以下的程式碼，並且解釋 A、B、C 三行程式碼分別在做什麼。"
      ],
      "metadata": {
        "id": "Vk429szGG2Xe"
      }
    },
    {
      "cell_type": "code",
      "execution_count": null,
      "metadata": {
        "id": "SC9jUA-_GyqZ"
      },
      "outputs": [],
      "source": [
        "import pandas as pd\n",
        "import statsmodels.api as sm\n",
        "\n",
        "source = 'https://raw.githubusercontent.com/cbrownley/foundations-for-analytics-with-python/master/statistics/winequality-both.csv'\n",
        "df = pd.read_csv(source)\n",
        "\n",
        "test = df.tail(10)\n",
        "testy = test['quality'] # 提取df中的目標變數 quality\n",
        "testX = sm.add_constant(test[test.columns.difference(['type','quality'])]) # 提取df中除了 'type' 和 'quality' 欄位之外的特徵，並新增一列常數金\n",
        "\n",
        "train = df.iloc[:-10]\n",
        "y = train['quality'] # 提取df中的目標變數 quality\n",
        "X = sm.add_constant(train[train.columns.difference(['type','quality'])]) # 提取df中除了 'type' 和 'quality' 欄位之外的特徵，並新增一列常數項欄位\n",
        "#想要利用除了 type、quality 之外的欄位（X） 對 quality 欄位（y） 進行迴歸分析。\n",
        "model = sm.OLS(y,X).fit() #A:建立回歸模型，並進行擬合\n",
        "\n",
        "print(model.summary()) #B:輸出模型結果\n",
        "print(model.predict(testX)) #C:利用模型預測測試資料"
      ]
    }
  ]
}