{
  "nbformat": 4,
  "nbformat_minor": 0,
  "metadata": {
    "colab": {
      "provenance": [],
      "authorship_tag": "ABX9TyM2NdMSW1mVIiOyqoPoL61p",
      "include_colab_link": true
    },
    "kernelspec": {
      "name": "python3",
      "display_name": "Python 3"
    },
    "language_info": {
      "name": "python"
    }
  },
  "cells": [
    {
      "cell_type": "markdown",
      "metadata": {
        "id": "view-in-github",
        "colab_type": "text"
      },
      "source": [
        "<a href=\"https://colab.research.google.com/github/LhsEric/dscareer_dsml_exercies_coach/blob/main/Task_04_%E4%BD%9C%E6%A5%AD_02%E3%80%90%E5%AF%A6%E4%BD%9C%E9%A1%8C%E3%80%91%E8%B3%87%E6%96%99%E6%B8%85%E7%90%86%E8%99%95%E7%90%86%E7%AD%96%E7%95%A5.ipynb\" target=\"_parent\"><img src=\"https://colab.research.google.com/assets/colab-badge.svg\" alt=\"Open In Colab\"/></a>"
      ]
    },
    {
      "cell_type": "markdown",
      "source": [
        "#Task #04 作業 02【實作題】資料清理處理策略"
      ],
      "metadata": {
        "id": "zNLljn28BRao"
      }
    },
    {
      "cell_type": "markdown",
      "source": [
        "\n",
        "\n",
        "1. Drop missing observations\n",
        "2. Drop rows where all cells in that row is NA **(DONE)**\n",
        "3. Create a new column full of missing values\n",
        "4. Fill in missing data with zeros\n",
        "5. Fill in missing in preTestScore with the mean value of preTestScore\n",
        "6. Fill in missing in postTestScore with each sex’s mean value of postTestScore\n",
        "7. Select some rows but ignore the missing data points"
      ],
      "metadata": {
        "id": "QnTvIowAR4U7"
      }
    },
    {
      "cell_type": "code",
      "source": [
        "import numpy as np\n",
        "import pandas as pd\n",
        "raw_data = {'first_name': ['Jason', np.nan, 'Tina', 'Jake', 'Amy'],\n",
        "        'last_name': ['Miller', np.nan, 'Ali', 'Milner', 'Cooze'],\n",
        "        'age': [42, np.nan, 36, 24, 73],\n",
        "        'sex': ['m', np.nan, 'f', 'm', 'f'],\n",
        "        'preTestScore': [4, np.nan, np.nan, 2, 3],\n",
        "        'postTestScore': [25, np.nan, np.nan, 62, 70]}\n",
        "df = pd.DataFrame(raw_data, columns = ['first_name', 'last_name', 'age', 'sex', 'preTestScore', 'postTestScore'])\n",
        "print(df)"
      ],
      "metadata": {
        "colab": {
          "base_uri": "https://localhost:8080/"
        },
        "id": "q5AFTX-yR8pX",
        "outputId": "d15c0574-652b-4534-cdb0-9ce05979e86f"
      },
      "execution_count": null,
      "outputs": [
        {
          "output_type": "stream",
          "name": "stdout",
          "text": [
            "  first_name last_name   age  sex  preTestScore  postTestScore\n",
            "0      Jason    Miller  42.0    m           4.0           25.0\n",
            "1        NaN       NaN   NaN  NaN           NaN            NaN\n",
            "2       Tina       Ali  36.0    f           NaN            NaN\n",
            "3       Jake    Milner  24.0    m           2.0           62.0\n",
            "4        Amy     Cooze  73.0    f           3.0           70.0\n"
          ]
        }
      ]
    },
    {
      "cell_type": "code",
      "source": [
        "#Drop rows where all cells in that row is NA\n",
        "df.dropna(how='all', inplace=True) #所有欄位皆有遺漏值(Missing Value)的資料就移除\n",
        "\n",
        "#Create a new column full of missing values\n",
        "df['new column']= np.nan\n",
        "\n",
        "#Fill in missing data with zeros\n",
        "df.fillna(0, inplace=True)\n",
        "\n",
        "#Fill in missing in preTestScore with the mean value of preTestScore\n",
        "df['preTestScore'].fillna(df['preTestScore'].mean(), inplace=True)\n",
        "\n",
        "#Fill in missing in postTestScore with each sex’s mean value of postTestScore\n",
        "filtered_m = df[df['sex'] == 'm']\n",
        "mean_m = filtered_m['postTestScore'].mean()\n",
        "filtered_f = df[df['sex'] == 'f']\n",
        "mean_f = filtered_f['postTestScore'].mean()\n",
        "\n",
        "df.loc[df['sex'] == 'm', 'postTestScore'].fillna(mean_m, inplace=True)\n",
        "df.loc[df['sex'] == 'f', 'postTestScore'].fillna(mean_f, inplace=True)\n",
        "\n",
        "#Select some rows but ignore the missing data points\n",
        "selected_rows = df[df['age'].notna()]"
      ],
      "metadata": {
        "colab": {
          "base_uri": "https://localhost:8080/"
        },
        "id": "psu642rapzAh",
        "outputId": "b3e42111-1f63-4427-a96c-e3ff60c37ce3"
      },
      "execution_count": null,
      "outputs": [
        {
          "output_type": "stream",
          "name": "stdout",
          "text": [
            "  first_name last_name   age sex  preTestScore  postTestScore  new column\n",
            "0      Jason    Miller  42.0   m           4.0           25.0         0.0\n",
            "2       Tina       Ali  36.0   f           3.0            0.0         0.0\n",
            "3       Jake    Milner  24.0   m           2.0           62.0         0.0\n",
            "4        Amy     Cooze  73.0   f           3.0           70.0         0.0\n"
          ]
        }
      ]
    },
    {
      "cell_type": "code",
      "source": [],
      "metadata": {
        "id": "MHmF1ZVFqMyk"
      },
      "execution_count": null,
      "outputs": []
    },
    {
      "cell_type": "code",
      "source": [],
      "metadata": {
        "id": "gtvhbCw7qMmA"
      },
      "execution_count": null,
      "outputs": []
    },
    {
      "cell_type": "code",
      "source": [
        "#Chatgpt\n",
        "# Drop rows where all cells in that row are NA\n",
        "df.dropna(how='all', inplace=True)\n",
        "\n",
        "# Create a new column full of missing values\n",
        "df['new_column'] = np.nan\n",
        "\n",
        "# Fill in missing data with zeros\n",
        "df.fillna(0, inplace=True)\n",
        "\n",
        "# Fill in missing in preTestScore with the mean value of preTestScore\n",
        "preTestScore_mean = df['preTestScore'].mean()\n",
        "df['preTestScore'].fillna(preTestScore_mean, inplace=True)\n",
        "\n",
        "# Fill in missing in postTestScore with each sex’s mean value of postTestScore\n",
        "postTestScore_mean_by_sex = df.groupby('sex')['postTestScore'].transform('mean')\n",
        "df['postTestScore'].fillna(postTestScore_mean_by_sex, inplace=True)\n",
        "\n",
        "# Select some rows but ignore the missing data points\n",
        "selected_rows = df[df['age'].notna()]\n",
        "\n",
        "print(selected_rows)"
      ],
      "metadata": {
        "colab": {
          "base_uri": "https://localhost:8080/"
        },
        "id": "wKp1INyNk4IO",
        "outputId": "bd989b4e-ee49-43fa-d1c5-152e81cbd452"
      },
      "execution_count": null,
      "outputs": [
        {
          "output_type": "stream",
          "name": "stdout",
          "text": [
            "  first_name last_name   age sex  preTestScore  postTestScore  new column  \\\n",
            "0      Jason    Miller  42.0   m           4.0           25.0         0.0   \n",
            "2       Tina       Ali  36.0   f           3.0            0.0         0.0   \n",
            "3       Jake    Milner  24.0   m           2.0           62.0         0.0   \n",
            "4        Amy     Cooze  73.0   f           3.0           70.0         0.0   \n",
            "\n",
            "   new_column  \n",
            "0         0.0  \n",
            "2         0.0  \n",
            "3         0.0  \n",
            "4         0.0  \n"
          ]
        }
      ]
    }
  ]
}