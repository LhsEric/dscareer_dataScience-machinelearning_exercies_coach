{
  "nbformat": 4,
  "nbformat_minor": 0,
  "metadata": {
    "colab": {
      "provenance": [],
      "authorship_tag": "ABX9TyPwx9czMwrdHjtF7hosIfhD",
      "include_colab_link": true
    },
    "kernelspec": {
      "name": "python3",
      "display_name": "Python 3"
    },
    "language_info": {
      "name": "python"
    }
  },
  "cells": [
    {
      "cell_type": "markdown",
      "metadata": {
        "id": "view-in-github",
        "colab_type": "text"
      },
      "source": [
        "<a href=\"https://colab.research.google.com/github/LhsEric/dscareer_dsml_exercies_coach/blob/main/Task_02_%E4%BD%9C%E6%A5%AD_01%E3%80%90%E5%AF%A6%E4%BD%9C%E9%A1%8C%E3%80%91%E8%B3%87%E6%96%99%E9%81%B8%E5%8F%96.ipynb\" target=\"_parent\"><img src=\"https://colab.research.google.com/assets/colab-badge.svg\" alt=\"Open In Colab\"/></a>"
      ]
    },
    {
      "cell_type": "markdown",
      "source": [
        "#Task #02 作業 01【實作題】資料選取\n"
      ],
      "metadata": {
        "id": "GKKHZNIW93Sx"
      }
    },
    {
      "cell_type": "markdown",
      "source": [
        "練習：請從給定的 DataFrame 分別篩選出符合條件的資料：\n",
        "\n",
        "*   filtered by first column > 20?\n",
        "*   filtered by first column + second column > 50\n",
        "*   filtered by first column < 30 or second column > 30\n",
        "*   filtered by total sum of row > 100"
      ],
      "metadata": {
        "id": "7Xryo7GI95hD"
      }
    },
    {
      "cell_type": "code",
      "execution_count": null,
      "metadata": {
        "id": "oVof1Kpb9ync"
      },
      "outputs": [],
      "source": [
        "import pandas as pd\n",
        "import numpy as np\n",
        "df = pd.DataFrame(np.random.randint(10, 40, 60).reshape(-1, 4))\n",
        "print(df,\"\\n\")\n",
        "\n",
        "# - 1. filtered by first column > 20?\n",
        "\n",
        "filtered1 = df.iloc[:, 0] >20\n",
        "print(filtered1,'\\n')\n",
        "\n",
        "# - 2. filtered by first column + second column > 50\n",
        "filtered2 = ((df.iloc[:, 0] + df.iloc[:, 1]) > 50)\n",
        "print(filtered2,'\\n')\n",
        "\n",
        "# - 3. filtered by first column < 30 or second column > 30\n",
        "filtered3 = ((df.iloc[:, 0])<30) | ((df.iloc[:,1])>30)\n",
        "print(df[filtered3],'\\n')\n",
        "\n",
        "# - 4. filtered by total sum of row > 100\n",
        "filtered4 = df.sum(axis=1)>100\n",
        "print(filtered4)"
      ]
    }
  ]
}