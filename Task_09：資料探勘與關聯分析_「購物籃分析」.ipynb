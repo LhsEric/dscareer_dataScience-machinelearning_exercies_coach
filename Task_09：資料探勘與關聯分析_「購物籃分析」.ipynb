{
  "nbformat": 4,
  "nbformat_minor": 0,
  "metadata": {
    "colab": {
      "provenance": [],
      "authorship_tag": "ABX9TyMy04p5jHz4KEbxUwQsvsV0",
      "include_colab_link": true
    },
    "kernelspec": {
      "name": "python3",
      "display_name": "Python 3"
    },
    "language_info": {
      "name": "python"
    }
  },
  "cells": [
    {
      "cell_type": "markdown",
      "metadata": {
        "id": "view-in-github",
        "colab_type": "text"
      },
      "source": [
        "<a href=\"https://colab.research.google.com/github/LhsEric/dscareer_dataScience-machinelearning_exercies_coach/blob/main/Task_09%EF%BC%9A%E8%B3%87%E6%96%99%E6%8E%A2%E5%8B%98%E8%88%87%E9%97%9C%E8%81%AF%E5%88%86%E6%9E%90_%E3%80%8C%E8%B3%BC%E7%89%A9%E7%B1%83%E5%88%86%E6%9E%90%E3%80%8D.ipynb\" target=\"_parent\"><img src=\"https://colab.research.google.com/assets/colab-badge.svg\" alt=\"Open In Colab\"/></a>"
      ]
    },
    {
      "cell_type": "markdown",
      "source": [
        "#Task #09 指定教材：資料探勘與關聯分析 「購物籃分析」\n",
        "\n"
      ],
      "metadata": {
        "id": "kH-cTDb_ZfV9"
      }
    },
    {
      "cell_type": "code",
      "source": [
        "import pandas as pd\n",
        "\n",
        "data = {\n",
        "    '顧客 ID': ['A', 'A', 'B', 'B', 'B', 'C', 'C', 'C', 'C', 'D', 'D', 'D', 'D', 'E', 'E', 'E', 'F', 'F', 'G', 'G'],\n",
        "    '商品名稱': ['可樂', '洋芋片', '啤酒', '花生', '餅乾', '可樂', '洋芋片', '花生', '餅乾', '可樂', '啤酒', '花生', '餅乾', '可樂', '啤酒', '餅乾', '可樂', '花生', '啤酒', '餅乾'],\n",
        "    '購買日期': ['2022/01/01', '2022/01/01', '2022/01/02', '2022/01/02', '2022/01/02', '2022/01/03', '2022/01/03', '2022/01/03', '2022/01/03', '2022/01/04', '2022/01/04', '2022/01/04', '2022/01/04', '2022/01/05', '2022/01/05', '2022/01/05', '2022/01/06', '2022/01/06', '2022/01/07', '2022/01/07']\n",
        "}\n",
        "\n",
        "df = pd.DataFrame(data)\n",
        "print(df)"
      ],
      "metadata": {
        "id": "cjDQ40w6aXs4",
        "outputId": "f70d7a6e-ba8f-4915-cb77-3c5206668c8d",
        "colab": {
          "base_uri": "https://localhost:8080/"
        }
      },
      "execution_count": 2,
      "outputs": [
        {
          "output_type": "stream",
          "name": "stdout",
          "text": [
            "   顧客 ID 商品名稱        購買日期\n",
            "0      A   可樂  2022/01/01\n",
            "1      A  洋芋片  2022/01/01\n",
            "2      B   啤酒  2022/01/02\n",
            "3      B   花生  2022/01/02\n",
            "4      B   餅乾  2022/01/02\n",
            "5      C   可樂  2022/01/03\n",
            "6      C  洋芋片  2022/01/03\n",
            "7      C   花生  2022/01/03\n",
            "8      C   餅乾  2022/01/03\n",
            "9      D   可樂  2022/01/04\n",
            "10     D   啤酒  2022/01/04\n",
            "11     D   花生  2022/01/04\n",
            "12     D   餅乾  2022/01/04\n",
            "13     E   可樂  2022/01/05\n",
            "14     E   啤酒  2022/01/05\n",
            "15     E   餅乾  2022/01/05\n",
            "16     F   可樂  2022/01/06\n",
            "17     F   花生  2022/01/06\n",
            "18     G   啤酒  2022/01/07\n",
            "19     G   餅乾  2022/01/07\n"
          ]
        },
        {
          "output_type": "stream",
          "name": "stderr",
          "text": [
            "/usr/local/lib/python3.10/dist-packages/ipykernel/ipkernel.py:283: DeprecationWarning: `should_run_async` will not call `transform_cell` automatically in the future. Please pass the result to `transformed_cell` argument and any exception that happen during thetransform in `preprocessing_exc_tuple` in IPython 7.17 and above.\n",
            "  and should_run_async(code)\n"
          ]
        }
      ]
    },
    {
      "cell_type": "code",
      "source": [
        "# 將資料集按照顧客 ID 及商品名稱進行分組\n",
        "grouped = df.groupby(['顧客 ID', '商品名稱'])['購買日期'].count().reset_index()"
      ],
      "metadata": {
        "colab": {
          "base_uri": "https://localhost:8080/"
        },
        "id": "rZg34m3OEVEW",
        "outputId": "4019cbd7-1960-421d-fc13-4101a49f3f38"
      },
      "execution_count": 3,
      "outputs": [
        {
          "output_type": "stream",
          "name": "stderr",
          "text": [
            "/usr/local/lib/python3.10/dist-packages/ipykernel/ipkernel.py:283: DeprecationWarning: `should_run_async` will not call `transform_cell` automatically in the future. Please pass the result to `transformed_cell` argument and any exception that happen during thetransform in `preprocessing_exc_tuple` in IPython 7.17 and above.\n",
            "  and should_run_async(code)\n"
          ]
        }
      ]
    },
    {
      "cell_type": "code",
      "execution_count": 4,
      "metadata": {
        "colab": {
          "base_uri": "https://localhost:8080/"
        },
        "id": "tH50u-f90YUk",
        "outputId": "12a9f87f-0343-4ea6-ebc4-a214463d92b1"
      },
      "outputs": [
        {
          "output_type": "stream",
          "name": "stdout",
          "text": [
            "============\n",
            "   antecedents consequents   support  confidence\n",
            "9         (啤酒)        (餅乾)  0.571429    1.000000\n",
            "14    (啤酒, 可樂)        (餅乾)  0.285714    1.000000\n",
            "22    (花生, 啤酒)        (餅乾)  0.285714    1.000000\n",
            "1        (洋芋片)        (可樂)  0.285714    1.000000\n",
            "8         (餅乾)        (啤酒)  0.571429    0.800000\n",
            "10        (花生)        (餅乾)  0.428571    0.750000\n",
            "2         (花生)        (可樂)  0.428571    0.750000\n",
            "17    (花生, 可樂)        (餅乾)  0.285714    0.666667\n",
            "16    (花生, 餅乾)        (可樂)  0.285714    0.666667\n",
            "13    (餅乾, 可樂)        (啤酒)  0.285714    0.666667\n",
            "18    (餅乾, 可樂)        (花生)  0.285714    0.666667\n",
            "20    (花生, 餅乾)        (啤酒)  0.285714    0.666667\n",
            "11        (餅乾)        (花生)  0.428571    0.600000\n",
            "5         (可樂)        (餅乾)  0.428571    0.600000\n",
            "4         (餅乾)        (可樂)  0.428571    0.600000\n",
            "3         (可樂)        (花生)  0.428571    0.600000\n",
            "23        (花生)    (啤酒, 餅乾)  0.285714    0.500000\n",
            "21    (啤酒, 餅乾)        (花生)  0.285714    0.500000\n",
            "0         (啤酒)        (可樂)  0.285714    0.500000\n",
            "12    (啤酒, 餅乾)        (可樂)  0.285714    0.500000\n",
            "19        (花生)    (餅乾, 可樂)  0.285714    0.500000\n",
            "15        (啤酒)    (餅乾, 可樂)  0.285714    0.500000\n",
            "7         (啤酒)        (花生)  0.285714    0.500000\n",
            "6         (花生)        (啤酒)  0.285714    0.500000\n",
            "24        (啤酒)    (花生, 餅乾)  0.285714    0.500000\n"
          ]
        },
        {
          "output_type": "stream",
          "name": "stderr",
          "text": [
            "/usr/local/lib/python3.10/dist-packages/ipykernel/ipkernel.py:283: DeprecationWarning: `should_run_async` will not call `transform_cell` automatically in the future. Please pass the result to `transformed_cell` argument and any exception that happen during thetransform in `preprocessing_exc_tuple` in IPython 7.17 and above.\n",
            "  and should_run_async(code)\n",
            "/usr/local/lib/python3.10/dist-packages/mlxtend/frequent_patterns/fpcommon.py:110: DeprecationWarning: DataFrames with non-bool types result in worse computationalperformance and their support might be discontinued in the future.Please use a DataFrame with bool type\n",
            "  warnings.warn(\n"
          ]
        }
      ],
      "source": [
        "from mlxtend.frequent_patterns import apriori\n",
        "from mlxtend.frequent_patterns import association_rules\n",
        "\n",
        "# 將資料集轉換成 one-hot 編碼\n",
        "hot_encoded = grouped.pivot(index='顧客 ID', columns='商品名稱', values='購買日期').fillna(0)\n",
        "print(\"============\")\n",
        "\n",
        "# 進行 Apriori 演算法分析\n",
        "# 頻繁項集(Frequent Itemsets): 經常一起出現的物品集合\n",
        "# min_support=0.2：指定最小支持度（support）為 0.2，意味著一個項集要被認為是頻繁的，必須出現在至少 20% 的交易中。\n",
        "# 告訴 apriori 函數返回的結果中包含原始列名稱（項目名稱），而不是編碼後的列索引。\n",
        "frequent_itemsets = apriori(hot_encoded, min_support=0.2, use_colnames=True)\n",
        "\n",
        "# 關聯規則association_rules\n",
        "# metric='confidence'：指定用來評估規則的度量標準是置信度（confidence）。置信度衡量的是在已經知道先前條件成立的情況下，後件條件也成立的概率。\n",
        "# min_threshold=0.5：指定最小置信度閾值為 0.5，這意味著只生成置信度至少為 50% 的關聯規則。\n",
        "rules = association_rules(frequent_itemsets, metric='confidence', min_threshold=0.5)\n",
        "\n",
        "# 按照信賴度排序並輸出結果\n",
        "rules.sort_values('confidence', ascending=False, inplace=True)\n",
        "print(rules[['antecedents', 'consequents', 'support', 'confidence']])\n",
        "\n",
        "# antecedents：規則的前件，即規則的「如果」部分。\n",
        "# consequents：規則的後件，即規則的「那麼」部分。\n",
        "# support：規則的支持度，即規則出現的頻率。指資料集中包含該商品（或商品組合）的交易次數與總交易次數之比。\n",
        "# confidence：規則的置信度，即在前件發生的情況下，後件也發生的概率。指包含前提的交易也包含結論的交易所佔的比例。"
      ]
    }
  ]
}