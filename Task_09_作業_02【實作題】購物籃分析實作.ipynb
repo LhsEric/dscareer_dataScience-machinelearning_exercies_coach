{
  "nbformat": 4,
  "nbformat_minor": 0,
  "metadata": {
    "colab": {
      "provenance": [],
      "authorship_tag": "ABX9TyOJ37iLdryrwfTTeq/49qdu",
      "include_colab_link": true
    },
    "kernelspec": {
      "name": "python3",
      "display_name": "Python 3"
    },
    "language_info": {
      "name": "python"
    }
  },
  "cells": [
    {
      "cell_type": "markdown",
      "metadata": {
        "id": "view-in-github",
        "colab_type": "text"
      },
      "source": [
        "<a href=\"https://colab.research.google.com/github/LhsEric/dscareer_dataScience-machinelearning_exercies_coach/blob/main/Task_09_%E4%BD%9C%E6%A5%AD_02%E3%80%90%E5%AF%A6%E4%BD%9C%E9%A1%8C%E3%80%91%E8%B3%BC%E7%89%A9%E7%B1%83%E5%88%86%E6%9E%90%E5%AF%A6%E4%BD%9C.ipynb\" target=\"_parent\"><img src=\"https://colab.research.google.com/assets/colab-badge.svg\" alt=\"Open In Colab\"/></a>"
      ]
    },
    {
      "cell_type": "markdown",
      "source": [
        "#Task #09 作業 02【實作題】購物籃分析實作"
      ],
      "metadata": {
        "id": "hPD4uG_wAltu"
      }
    },
    {
      "cell_type": "markdown",
      "source": [
        "*   練習：請根據給定的資料集，計算出「Frequent Patterns（Apriori）」和「Association Rules」的結果。"
      ],
      "metadata": {
        "id": "Rh5hnM82ArNU"
      }
    },
    {
      "cell_type": "code",
      "source": [
        "import pandas as pd\n",
        "from mlxtend.frequent_patterns import apriori\n",
        "from mlxtend.frequent_patterns import association_rules\n",
        "from sklearn.preprocessing import MultiLabelBinarizer\n",
        "\n",
        "dataset = [\n",
        "  ['Milk', 'Onion', 'Nutmeg', 'Kidney' 'Beans', 'Eggs', 'Yogurt'],\n",
        "  ['Dill', 'Onion', 'Nutmeg', 'Kidney' 'Beans', 'Eggs', 'Yogurt'],\n",
        "  ['Milk', 'Apple', 'Kidney' 'Beans', 'Eggs'],\n",
        "  ['Milk', 'Unicorn', 'Corn', 'Kidney' 'Beans', 'Yogurt'],\n",
        "  ['Corn', 'Onion', 'Onion', 'Kidney' 'Beans', 'Ice cream', 'Eggs'],\n",
        "]\n",
        "print(dataset)"
      ],
      "metadata": {
        "colab": {
          "base_uri": "https://localhost:8080/"
        },
        "id": "ukcNwVJ6AhSm",
        "outputId": "a2c1ee3e-877a-47fd-c082-7a35c29aae4b"
      },
      "execution_count": 13,
      "outputs": [
        {
          "output_type": "stream",
          "name": "stdout",
          "text": [
            "[['Milk', 'Onion', 'Nutmeg', 'KidneyBeans', 'Eggs', 'Yogurt'], ['Dill', 'Onion', 'Nutmeg', 'KidneyBeans', 'Eggs', 'Yogurt'], ['Milk', 'Apple', 'KidneyBeans', 'Eggs'], ['Milk', 'Unicorn', 'Corn', 'KidneyBeans', 'Yogurt'], ['Corn', 'Onion', 'Onion', 'KidneyBeans', 'Ice cream', 'Eggs']]\n"
          ]
        },
        {
          "output_type": "stream",
          "name": "stderr",
          "text": [
            "/usr/local/lib/python3.10/dist-packages/ipykernel/ipkernel.py:283: DeprecationWarning: `should_run_async` will not call `transform_cell` automatically in the future. Please pass the result to `transformed_cell` argument and any exception that happen during thetransform in `preprocessing_exc_tuple` in IPython 7.17 and above.\n",
            "  and should_run_async(code)\n"
          ]
        }
      ]
    },
    {
      "cell_type": "code",
      "source": [
        "mlb = MultiLabelBinarizer()\n",
        "one_hot_encoded = mlb.fit_transform(dataset)\n",
        "\n",
        "# 將結果轉換為 DataFrame，便於查看\n",
        "one_hot_df = pd.DataFrame(one_hot_encoded, columns=mlb.classes_)\n",
        "\n",
        "# 進行 Apriori 演算法分析\n",
        "frequent_itemsets = apriori(one_hot_df, min_support=0.2, use_colnames=True)\n",
        "rules = association_rules(frequent_itemsets, metric='confidence', min_threshold=0.5)\n",
        "\n",
        "# 按照信賴度排序並輸出結果\n",
        "rules.sort_values('confidence', ascending=False, inplace=True)\n",
        "print(rules[['antecedents', 'consequents', 'support', 'confidence']])"
      ],
      "metadata": {
        "id": "X1uy2F9mBCs0",
        "colab": {
          "base_uri": "https://localhost:8080/"
        },
        "outputId": "93732b0a-0d88-419d-e1c1-37b68b000025"
      },
      "execution_count": 10,
      "outputs": [
        {
          "output_type": "stream",
          "name": "stdout",
          "text": [
            "                       antecedents                               consequents  \\\n",
            "0                          (Apple)                                    (Eggs)   \n",
            "429                         (Dill)             (Yogurt, KidneyBeans, Nutmeg)   \n",
            "422         (Yogurt, Dill, Nutmeg)                             (KidneyBeans)   \n",
            "423    (KidneyBeans, Dill, Nutmeg)                                  (Yogurt)   \n",
            "424                 (Yogurt, Dill)                     (KidneyBeans, Nutmeg)   \n",
            "...                            ...                                       ...   \n",
            "781                (Yogurt, Onion)               (KidneyBeans, Dill, Nutmeg)   \n",
            "780               (Yogurt, Nutmeg)                (KidneyBeans, Dill, Onion)   \n",
            "405                (Yogurt, Onion)                              (Eggs, Dill)   \n",
            "778   (KidneyBeans, Nutmeg, Onion)                            (Yogurt, Dill)   \n",
            "1032                      (Nutmeg)  (Yogurt, Onion, Milk, Eggs, KidneyBeans)   \n",
            "\n",
            "      support  confidence  \n",
            "0         0.2         1.0  \n",
            "429       0.2         1.0  \n",
            "422       0.2         1.0  \n",
            "423       0.2         1.0  \n",
            "424       0.2         1.0  \n",
            "...       ...         ...  \n",
            "781       0.2         0.5  \n",
            "780       0.2         0.5  \n",
            "405       0.2         0.5  \n",
            "778       0.2         0.5  \n",
            "1032      0.2         0.5  \n",
            "\n",
            "[1033 rows x 4 columns]\n"
          ]
        },
        {
          "output_type": "stream",
          "name": "stderr",
          "text": [
            "/usr/local/lib/python3.10/dist-packages/ipykernel/ipkernel.py:283: DeprecationWarning: `should_run_async` will not call `transform_cell` automatically in the future. Please pass the result to `transformed_cell` argument and any exception that happen during thetransform in `preprocessing_exc_tuple` in IPython 7.17 and above.\n",
            "  and should_run_async(code)\n",
            "/usr/local/lib/python3.10/dist-packages/mlxtend/frequent_patterns/fpcommon.py:110: DeprecationWarning: DataFrames with non-bool types result in worse computationalperformance and their support might be discontinued in the future.Please use a DataFrame with bool type\n",
            "  warnings.warn(\n"
          ]
        }
      ]
    }
  ]
}