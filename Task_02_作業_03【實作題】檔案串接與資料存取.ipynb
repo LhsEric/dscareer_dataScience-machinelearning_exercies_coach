{
  "nbformat": 4,
  "nbformat_minor": 0,
  "metadata": {
    "colab": {
      "provenance": [],
      "authorship_tag": "ABX9TyO5OhUclg31e8gmke4tf4LG",
      "include_colab_link": true
    },
    "kernelspec": {
      "name": "python3",
      "display_name": "Python 3"
    },
    "language_info": {
      "name": "python"
    }
  },
  "cells": [
    {
      "cell_type": "markdown",
      "metadata": {
        "id": "view-in-github",
        "colab_type": "text"
      },
      "source": [
        "<a href=\"https://colab.research.google.com/github/LhsEric/dscareer_dsml_exercies_coach/blob/main/Task_02_%E4%BD%9C%E6%A5%AD_03%E3%80%90%E5%AF%A6%E4%BD%9C%E9%A1%8C%E3%80%91%E6%AA%94%E6%A1%88%E4%B8%B2%E6%8E%A5%E8%88%87%E8%B3%87%E6%96%99%E5%AD%98%E5%8F%96.ipynb\" target=\"_parent\"><img src=\"https://colab.research.google.com/assets/colab-badge.svg\" alt=\"Open In Colab\"/></a>"
      ]
    },
    {
      "cell_type": "markdown",
      "source": [
        "#Task #02 作業 03【實作題】檔案串接與資料存取"
      ],
      "metadata": {
        "id": "6S65CJ7F_ouD"
      }
    },
    {
      "cell_type": "markdown",
      "source": [
        "練習：我們使用來自於社群整理的醫事機構整理的公開資料，該資料包含醫事機構代碼、醫事機構名稱以及地址等資訊。請嘗試用 Pandas 存取來自於檔案來源的資料，並且計算每個縣市的醫事機構數量並且排序前五高縣市為何。\n",
        "\n",
        "* Sample Input: https://raw.githubusercontent.com/kiang/pharmacies/master/data.csv\n",
        "* Sample Output: 醫事機構數量前五高的縣市"
      ],
      "metadata": {
        "id": "g-sG9cSF_qqs"
      }
    },
    {
      "cell_type": "code",
      "execution_count": null,
      "metadata": {
        "id": "WjyXLjyN_kme"
      },
      "outputs": [],
      "source": [
        "import pandas as pd\n",
        "url= 'https://raw.githubusercontent.com/kiang/pharmacies/master/data.csv'\n",
        "d2 = pd.read_csv(url)\n",
        "\n",
        "df2 = pd.DataFrame(d2)\n",
        "print(df2.head(0))\n",
        "locagrouped = df2.groupby('縣市').agg({'醫事機構代碼': 'count'}).sort_values(by='醫事機構代碼',ascending=False)\n",
        "\n",
        "\n",
        "print(locagrouped.head(5))\n",
        "\n",
        "#第二次做\n",
        "#Task 02 作業 03【實作題】檔案串接與資料存取\n",
        "data = pd.read_csv('https://raw.githubusercontent.com/kiang/pharmacies/master/data.csv')\n",
        "df = pd.DataFrame(data)\n",
        "grouped = df.groupby('縣市')\n",
        "df\n",
        "result = grouped.agg({'醫事機構代碼':'count'})\n",
        "print(result.sort_values(by='醫事機構代碼', ascending=False).head(5))"
      ]
    }
  ]
}