{
  "nbformat": 4,
  "nbformat_minor": 0,
  "metadata": {
    "colab": {
      "provenance": [],
      "authorship_tag": "ABX9TyNxtdH8Py1+IfvWv72u5zuc",
      "include_colab_link": true
    },
    "kernelspec": {
      "name": "python3",
      "display_name": "Python 3"
    },
    "language_info": {
      "name": "python"
    }
  },
  "cells": [
    {
      "cell_type": "markdown",
      "metadata": {
        "id": "view-in-github",
        "colab_type": "text"
      },
      "source": [
        "<a href=\"https://colab.research.google.com/github/LhsEric/dscareer_dsml_exercies_coach/blob/main/Task_02_%E4%BD%9C%E6%A5%AD_02%E3%80%90%E5%AF%A6%E4%BD%9C%E9%A1%8C%E3%80%91%E8%B3%87%E6%96%99%E5%8C%AF%E7%B8%BD.ipynb\" target=\"_parent\"><img src=\"https://colab.research.google.com/assets/colab-badge.svg\" alt=\"Open In Colab\"/></a>"
      ]
    },
    {
      "cell_type": "markdown",
      "source": [
        "#Task #02 作業 02【實作題】資料匯總"
      ],
      "metadata": {
        "id": "pbP9zazQ_Pe0"
      }
    },
    {
      "cell_type": "markdown",
      "source": [
        "練習：請利用 Pandas 計算給定的資料中不同 weekday 的 visitor 總和為何？\n",
        "\n",
        "*Sample Output: { 'Sun': 376, 'Mon': 782 }"
      ],
      "metadata": {
        "id": "uVPD-NeE_SES"
      }
    },
    {
      "cell_type": "code",
      "execution_count": null,
      "metadata": {
        "id": "ZfMeOwtu_Eaa"
      },
      "outputs": [],
      "source": [
        "import pandas as pd\n",
        "import numpy as np\n",
        "\n",
        "d = [\n",
        " {'city': 'Austin', 'visitor': 139, 'weekday': 'Sun'},\n",
        " {'city': 'Dallas', 'visitor': 237, 'weekday': 'Sun'},\n",
        " {'city': 'Austin', 'visitor': 326, 'weekday': 'Mon'},\n",
        " {'city': 'Dallas', 'visitor': 456, 'weekday': 'Mon'}\n",
        "]\n",
        "\n",
        "df = pd.DataFrame(d)\n",
        "grouped = df.groupby('weekday')\n",
        "result = grouped['visitor'].sum()\n",
        "#print(df.groupby('weekday')['visitor'].sum())\n",
        "print(result)\n",
        "\n",
        "#Second solution\n",
        "df = pd.DataFrame(d)\n",
        "weekday_visitor = df.groupby('weekday')\n",
        "result = weekday_visitor.agg({'visitor':'sum'})\n",
        "print(result)"
      ]
    }
  ]
}