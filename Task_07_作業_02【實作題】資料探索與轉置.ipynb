{
  "nbformat": 4,
  "nbformat_minor": 0,
  "metadata": {
    "colab": {
      "provenance": [],
      "authorship_tag": "ABX9TyP48nXejRSy7x003LceUxXW",
      "include_colab_link": true
    },
    "kernelspec": {
      "name": "python3",
      "display_name": "Python 3"
    },
    "language_info": {
      "name": "python"
    }
  },
  "cells": [
    {
      "cell_type": "markdown",
      "metadata": {
        "id": "view-in-github",
        "colab_type": "text"
      },
      "source": [
        "<a href=\"https://colab.research.google.com/github/LhsEric/dscareer_dsml_exercies_coach/blob/main/Task_07_%E4%BD%9C%E6%A5%AD_02%E3%80%90%E5%AF%A6%E4%BD%9C%E9%A1%8C%E3%80%91%E8%B3%87%E6%96%99%E6%8E%A2%E7%B4%A2%E8%88%87%E8%BD%89%E7%BD%AE.ipynb\" target=\"_parent\"><img src=\"https://colab.research.google.com/assets/colab-badge.svg\" alt=\"Open In Colab\"/></a>"
      ]
    },
    {
      "cell_type": "markdown",
      "source": [
        "#Task #07 作業 02【實作題】資料探索與轉置\n"
      ],
      "metadata": {
        "id": "0zeN2wuTETWT"
      }
    },
    {
      "cell_type": "markdown",
      "source": [
        "練習：請將給定的原始資料計算出「每一個 Team」對應「每一個 Year」出現的次數：https://static.kolable.com/images/dscareer/editor/1ecb94c9-07f6-4f21-9542-f2c23dbe1e1f/1200"
      ],
      "metadata": {
        "id": "rOM8a0DTEWpN"
      }
    },
    {
      "cell_type": "code",
      "execution_count": null,
      "metadata": {
        "id": "9Zj3bhxmEPaG"
      },
      "outputs": [],
      "source": [
        "import numpy as np\n",
        "import pandas as pd\n",
        "\n",
        "ipl_data = {\n",
        " 'Team': ['Riders', 'Riders', 'Devils', 'Devils', 'Kings',\n",
        " 'kings', 'Kings', 'Kings', 'Riders', 'Royals', 'Royals', 'Riders'],\n",
        " 'Rank': [1, 2, 2, 3, 3,4 ,1 ,1,2 , 4,1,2],\n",
        " 'Year': [2014,2015,2014,2015,2014,2015,2016,2017,2016,2014,2015,2017],\n",
        " 'Points':[876,789,863,673,741,812,756,788,694,701,804,690]\n",
        "}\n",
        "df = pd.DataFrame(ipl_data)\n",
        "print(df)\n",
        "\n",
        "pivot = pd.pivot_table(df, values=[\"Rank\"], index='Year', columns=\"Team\")\n",
        "print(pivot)"
      ]
    }
  ]
}