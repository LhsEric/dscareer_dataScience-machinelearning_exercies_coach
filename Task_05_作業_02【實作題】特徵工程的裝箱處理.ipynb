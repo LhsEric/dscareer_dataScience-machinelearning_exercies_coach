{
  "nbformat": 4,
  "nbformat_minor": 0,
  "metadata": {
    "colab": {
      "provenance": [],
      "authorship_tag": "ABX9TyOrXhSPXsS0cODtfsb1gNQX",
      "include_colab_link": true
    },
    "kernelspec": {
      "name": "python3",
      "display_name": "Python 3"
    },
    "language_info": {
      "name": "python"
    }
  },
  "cells": [
    {
      "cell_type": "markdown",
      "metadata": {
        "id": "view-in-github",
        "colab_type": "text"
      },
      "source": [
        "<a href=\"https://colab.research.google.com/github/LhsEric/dscareer_dsml_exercies_coach/blob/main/Task_05_%E4%BD%9C%E6%A5%AD_02%E3%80%90%E5%AF%A6%E4%BD%9C%E9%A1%8C%E3%80%91%E7%89%B9%E5%BE%B5%E5%B7%A5%E7%A8%8B%E7%9A%84%E8%A3%9D%E7%AE%B1%E8%99%95%E7%90%86.ipynb\" target=\"_parent\"><img src=\"https://colab.research.google.com/assets/colab-badge.svg\" alt=\"Open In Colab\"/></a>"
      ]
    },
    {
      "cell_type": "markdown",
      "source": [
        "#Task #05 作業 02【實作題】特徵工程的裝箱處理"
      ],
      "metadata": {
        "id": "4iJC6ZbkCYck"
      }
    },
    {
      "cell_type": "markdown",
      "source": [
        "練習：請根據提供的資料，將原始欄位的資料切分成由 n 個類別所組成欄位。https://static.kolable.com/images/dscareer/editor/7cf9cb59-e609-4eed-8b1e-54fbc2adc48b/1200"
      ],
      "metadata": {
        "id": "1A-9dWTpCcok"
      }
    },
    {
      "cell_type": "code",
      "execution_count": null,
      "metadata": {
        "colab": {
          "base_uri": "https://localhost:8080/"
        },
        "id": "eV569jwuzIJQ",
        "outputId": "25c2439c-825e-438b-f68b-c36218e753a7"
      },
      "outputs": [
        {
          "output_type": "stream",
          "name": "stdout",
          "text": [
            "10\n",
            "            0  binned\n",
            "0   44.295668       4\n",
            "1   63.038597       5\n",
            "2   94.720350       9\n",
            "3   56.292508       5\n",
            "4   37.242903       3\n",
            "..        ...     ...\n",
            "95  66.073627       6\n",
            "96  84.904807       8\n",
            "97  79.734727       7\n",
            "98  37.531093       3\n",
            "99  19.656091       1\n",
            "\n",
            "[100 rows x 2 columns]\n"
          ]
        }
      ],
      "source": [
        "import numpy as np\n",
        "import pandas as pd\n",
        "\n",
        "df = pd.DataFrame(np.random.random(100)*100)\n",
        "\n",
        "n = int(input())\n",
        "\n",
        "df['binned'] = pd.qcut(df[0], q=n, labels=False)\n",
        "print(df)"
      ]
    }
  ]
}